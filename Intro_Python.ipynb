{
 "cells": [
  {
   "cell_type": "code",
   "execution_count": 9,
   "metadata": {},
   "outputs": [
    {
     "name": "stdout",
     "output_type": "stream",
     "text": [
      "Hola Mundo :3\n"
     ]
    }
   ],
   "source": [
    "print('Hola Mundo :3')"
   ]
  },
  {
   "cell_type": "code",
   "execution_count": 10,
   "metadata": {},
   "outputs": [
    {
     "name": "stdout",
     "output_type": "stream",
     "text": [
      "<class 'int'>\n",
      "<class 'str'>\n",
      "<class 'bool'>\n"
     ]
    }
   ],
   "source": [
    "number = 10\n",
    "string = 'hola mundo'\n",
    "booleano = True\n",
    "\n",
    "print(type(number))\n",
    "print(type(string))\n",
    "print(type(booleano))"
   ]
  },
  {
   "cell_type": "code",
   "execution_count": 11,
   "metadata": {},
   "outputs": [
    {
     "name": "stdout",
     "output_type": "stream",
     "text": [
      "3\n",
      "-1\n",
      "16\n",
      "1.0\n",
      "16\n",
      "1\n",
      "0\n",
      "1\n"
     ]
    }
   ],
   "source": [
    "print(1 + 2) # Suma\n",
    "print(2 - 3) # resta\n",
    "print(4 * 4) # multi\n",
    "print(4 / 4) # divi\n",
    "print(4 ** 2) # potencia\n",
    "print(4 // 4) # divi entera\n",
    "print(10 % 2) # modulo par\n",
    "print(11 % 2) # modulo impar"
   ]
  },
  {
   "cell_type": "code",
   "execution_count": 12,
   "metadata": {},
   "outputs": [
    {
     "name": "stdout",
     "output_type": "stream",
     "text": [
      "ab\n",
      "abc\n",
      "2\n",
      "2\n",
      "----------------\n"
     ]
    }
   ],
   "source": [
    "print('a'+'b') # Concatenación\n",
    "print('a'+'b'+'c') # Concatenación\n",
    "print(True + 1) # suma (except)\n",
    "print(True + True) # suma (except)\n",
    "print('-'*16) # multi de cadenas"
   ]
  },
  {
   "cell_type": "code",
   "execution_count": 13,
   "metadata": {},
   "outputs": [
    {
     "name": "stdout",
     "output_type": "stream",
     "text": [
      "Hola jorge y sebastian\n",
      "Hola jorge y sebastian\n"
     ]
    }
   ],
   "source": [
    "# Interpolación de strings \n",
    "var = 'jorge'\n",
    "var2 = 'sebastian'\n",
    "print(f'Hola {var} y {var2}')\n",
    "print('Hola {} y {}'.format(var, var2))"
   ]
  },
  {
   "cell_type": "code",
   "execution_count": 14,
   "metadata": {},
   "outputs": [
    {
     "name": "stdout",
     "output_type": "stream",
     "text": [
      "maria\n",
      "maria <class 'str'>\n"
     ]
    }
   ],
   "source": [
    "var = input()\n",
    "print(var, type(var))"
   ]
  },
  {
   "cell_type": "code",
   "execution_count": 15,
   "metadata": {},
   "outputs": [
    {
     "name": "stdout",
     "output_type": "stream",
     "text": [
      "1 <class 'int'>\n",
      "1 <class 'str'>\n",
      "1.0 <class 'float'>\n",
      "True <class 'bool'>\n"
     ]
    }
   ],
   "source": [
    "# Casting o casteo\n",
    "a = 1 \n",
    "\n",
    "a = int(a)\n",
    "print(a,type(a))\n",
    "\n",
    "a = str(a)\n",
    "print(a,type(a))\n",
    "\n",
    "a = float(a)\n",
    "print(a, type(a))\n",
    "\n",
    "a = bool(a)\n",
    "print(a,type(a))\n",
    "\n"
   ]
  },
  {
   "cell_type": "code",
   "execution_count": 16,
   "metadata": {},
   "outputs": [
    {
     "name": "stdout",
     "output_type": "stream",
     "text": [
      "Ingrese el nombre: maria\n",
      "Hola maria\n"
     ]
    }
   ],
   "source": [
    "name = input('Ingrese el nombre: ')\n",
    "print(f'Hola {name}')"
   ]
  },
  {
   "cell_type": "code",
   "execution_count": null,
   "metadata": {},
   "outputs": [],
   "source": []
  }
 ],
 "metadata": {
  "kernelspec": {
   "display_name": "Python 3",
   "language": "python",
   "name": "python3"
  },
  "language_info": {
   "codemirror_mode": {
    "name": "ipython",
    "version": 3
   },
   "file_extension": ".py",
   "mimetype": "text/x-python",
   "name": "python",
   "nbconvert_exporter": "python",
   "pygments_lexer": "ipython3",
   "version": "3.8.3"
  }
 },
 "nbformat": 4,
 "nbformat_minor": 2
}
