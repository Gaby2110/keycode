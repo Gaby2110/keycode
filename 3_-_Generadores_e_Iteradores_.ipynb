{
 "cells": [
  {
   "cell_type": "code",
   "execution_count": null,
   "metadata": {},
   "outputs": [],
   "source": [
    "def odd_numbers(nums): # just a normal function\n",
    "    aux = []\n",
    "    for i in nums:\n",
    "        if i % 2 == 1:\n",
    "            aux.append(i)\n",
    "    \n",
    "    return aux"
   ]
  },
  {
   "cell_type": "code",
   "execution_count": null,
   "metadata": {},
   "outputs": [],
   "source": [
    "odd = odd_numbers([1,2,3,4,5,6,7,8,9,10])\n",
    "odd"
   ]
  },
  {
   "cell_type": "code",
   "execution_count": null,
   "metadata": {},
   "outputs": [],
   "source": [
    "def odd_numbers(nums): # Generator\n",
    "    for i in nums:\n",
    "        if i % 2 == 1:\n",
    "            yield i\n",
    "    "
   ]
  },
  {
   "cell_type": "code",
   "execution_count": null,
   "metadata": {},
   "outputs": [],
   "source": [
    "odd = odd_numbers([1,2,3,4,5,6,7,8,9,10])\n",
    "print(next(odd))\n",
    "print(next(odd))\n",
    "print(next(odd))\n",
    "print(next(odd))\n",
    "print(next(odd))"
   ]
  },
  {
   "cell_type": "code",
   "execution_count": null,
   "metadata": {},
   "outputs": [],
   "source": [
    "odd = (i % 2 == 1 for i in [1,2,3,4,5,6,7,8,9,10])\n",
    "odd"
   ]
  },
  {
   "cell_type": "code",
   "execution_count": null,
   "metadata": {},
   "outputs": [],
   "source": [
    "for i in odd:\n",
    "    print(i)"
   ]
  },
  {
   "cell_type": "code",
   "execution_count": null,
   "metadata": {},
   "outputs": [],
   "source": [
    "odd = (i for i in [1,2,3,4,5,6,7,8,9,10] if i % 2 == 1 )\n",
    "odd"
   ]
  },
  {
   "cell_type": "code",
   "execution_count": null,
   "metadata": {},
   "outputs": [],
   "source": [
    "for i in odd:\n",
    "    print(i)"
   ]
  },
  {
   "cell_type": "code",
   "execution_count": null,
   "metadata": {},
   "outputs": [],
   "source": [
    "odd = ('impar' if i % 2 == 1 else 'par' for i in [1,2,3,4,5,6,7,8,9,10])\n",
    "\n",
    "for i in odd:\n",
    "    print(i)"
   ]
  },
  {
   "cell_type": "code",
   "execution_count": null,
   "metadata": {},
   "outputs": [],
   "source": [
    "odd = (i ** 2 for i in [1,2,3,4,5,6,7,8,9,10]) # Create a generator\n",
    "odd"
   ]
  },
  {
   "cell_type": "code",
   "execution_count": null,
   "metadata": {},
   "outputs": [],
   "source": [
    "for i in odd:\n",
    "    print(i)"
   ]
  },
  {
   "cell_type": "code",
   "execution_count": null,
   "metadata": {},
   "outputs": [],
   "source": [
    "odd = (i ** 2 for i in [1,2,3,4,5,6,7,8,9,10]) \n",
    "print(list(odd)) # you lose all benefits of a generator"
   ]
  },
  {
   "cell_type": "code",
   "execution_count": null,
   "metadata": {},
   "outputs": [],
   "source": [
    "def my_generator():\n",
    "    n = 1\n",
    "    print('Primero')\n",
    "    yield n\n",
    "\n",
    "    n += 1\n",
    "    print('Segundo')\n",
    "    yield n\n",
    "\n",
    "    n += 1\n",
    "    print('Tercero')\n",
    "    yield n"
   ]
  },
  {
   "cell_type": "code",
   "execution_count": null,
   "metadata": {},
   "outputs": [],
   "source": [
    "gen = my_generator()"
   ]
  },
  {
   "cell_type": "code",
   "execution_count": null,
   "metadata": {},
   "outputs": [],
   "source": [
    "next(gen)"
   ]
  },
  {
   "cell_type": "code",
   "execution_count": null,
   "metadata": {},
   "outputs": [],
   "source": [
    "next(gen)"
   ]
  },
  {
   "cell_type": "code",
   "execution_count": null,
   "metadata": {},
   "outputs": [],
   "source": [
    "next(gen)"
   ]
  },
  {
   "cell_type": "code",
   "execution_count": null,
   "metadata": {},
   "outputs": [],
   "source": [
    "def my_generator_2():\n",
    "    n = 1\n",
    "    print('Hola')\n",
    "    yield n\n",
    "    next(n)\n",
    "    n += 1\n",
    "    print('Como estas')\n",
    "    yield n\n",
    "    next(n)\n",
    "    n += 1\n",
    "    print('Bien')\n",
    "    yield n\n",
    "    next(n)"
   ]
  },
  {
   "cell_type": "code",
   "execution_count": null,
   "metadata": {},
   "outputs": [],
   "source": [
    "gen = my_generator_2()"
   ]
  },
  {
   "cell_type": "code",
   "execution_count": null,
   "metadata": {},
   "outputs": [],
   "source": [
    "next(n)"
   ]
  },
  {
   "cell_type": "code",
   "execution_count": null,
   "metadata": {},
   "outputs": [],
   "source": [
    "next(gen)"
   ]
  },
  {
   "cell_type": "code",
   "execution_count": null,
   "metadata": {},
   "outputs": [],
   "source": [
    "next(gen)"
   ]
  },
  {
   "cell_type": "code",
   "execution_count": null,
   "metadata": {},
   "outputs": [],
   "source": [
    "import random\n",
    "# ! pip install memory_profiler\n",
    "%load_ext memory_profiler\n",
    "import time"
   ]
  },
  {
   "cell_type": "code",
   "execution_count": null,
   "metadata": {},
   "outputs": [],
   "source": [
    "names = [\"josh\", \"jhonna\", \"michael\", \"tom\",\"diana\",\"kim\"]"
   ]
  },
  {
   "cell_type": "code",
   "execution_count": null,
   "metadata": {},
   "outputs": [],
   "source": [
    "%%time\n",
    "\n",
    "def create_people(num):\n",
    "    aux = []\n",
    "    for i in range(num):\n",
    "        person = {\n",
    "            'id': i,\n",
    "            'name': random.choice(names)\n",
    "        }\n",
    "        aux.append(person)\n",
    "    return aux\n",
    "t1 = time.process_time()\n",
    "%memit people = create_people(1000000)\n",
    "t2 = time.process_time()\n",
    "print(f'time used {t2-t1}')"
   ]
  },
  {
   "cell_type": "code",
   "execution_count": null,
   "metadata": {},
   "outputs": [],
   "source": [
    "%%time\n",
    "\n",
    "\n",
    "def generate_people(num):\n",
    "    for i in range(num):\n",
    "        person = {\n",
    "            'id': i,\n",
    "            'name': random.choice(names)\n",
    "        }\n",
    "        yield person\n",
    "\n",
    "        \n",
    "t1 = time.process_time()\n",
    "%memit people = generate_people(1000000)\n",
    "t2 = time.process_time()\n",
    "print(f'time used {t2-t1}')"
   ]
  },
  {
   "cell_type": "code",
   "execution_count": null,
   "metadata": {},
   "outputs": [],
   "source": [
    "%%time\n",
    "\n",
    "def create_people(num):\n",
    "    aux = []\n",
    "    for i in range(num):\n",
    "        person = {\n",
    "            'id': i,\n",
    "            'name': random.choice(names)\n",
    "        }\n",
    "        aux.append(person)\n",
    "    return aux\n",
    "t1 = time.process_time()\n",
    "%memit people = create_people(5000000)\n",
    "t2 = time.process_time()\n",
    "print(f'time used {t2-t1}')"
   ]
  },
  {
   "cell_type": "code",
   "execution_count": null,
   "metadata": {},
   "outputs": [],
   "source": [
    "%%time\n",
    "\n",
    "\n",
    "def generate_people(num):\n",
    "    for i in range(num):\n",
    "        person = {\n",
    "            'id': i,\n",
    "            'name': random.choice(names)\n",
    "        }\n",
    "        yield person\n",
    "\n",
    "        \n",
    "t1 = time.process_time()\n",
    "%memit people = generate_people(5000000)\n",
    "t2 = time.process_time()\n",
    "print(f'time used {t2-t1}')"
   ]
  },
  {
   "cell_type": "code",
   "execution_count": null,
   "metadata": {},
   "outputs": [],
   "source": [
    "t = (\"pineapple\", \"blackberry\", \"cherry\", \"strawberry\") # tuple\n",
    "ite = iter(t)\n",
    "\n",
    "print(next(ite))\n",
    "print(next(ite))\n",
    "print(next(ite))\n",
    "print(next(ite))\n"
   ]
  },
  {
   "cell_type": "code",
   "execution_count": null,
   "metadata": {},
   "outputs": [],
   "source": [
    "str = \"pineapple\" # String\n",
    "it = iter(str)\n",
    "\n",
    "print(next(it))\n",
    "print(next(it))\n",
    "print(next(it))\n",
    "print(next(it))\n",
    "print(next(it))\n",
    "print(next(it))\n",
    "print(next(it))\n",
    "print(next(it))\n",
    "print(next(it))"
   ]
  },
  {
   "cell_type": "code",
   "execution_count": null,
   "metadata": {},
   "outputs": [],
   "source": [
    "l = [\"pineapple\", \"blackberry\", \"cherry\", \"strawberry\"] # List\n",
    "ite = iter(t)\n",
    "\n",
    "print(next(ite))\n",
    "print(next(ite))\n",
    "print(next(ite))\n",
    "print(next(ite))"
   ]
  },
  {
   "cell_type": "code",
   "execution_count": null,
   "metadata": {},
   "outputs": [],
   "source": [
    "d = {1:\"pineapple\", 2:\"blackberry\", 3:\"cherry\", 4:\"strawberry\"} # Dictionary\n",
    "ite = iter(t)\n",
    "\n",
    "print(next(ite))\n",
    "print(next(ite))\n",
    "print(next(ite))\n",
    "print(next(ite))"
   ]
  },
  {
   "cell_type": "code",
   "execution_count": null,
   "metadata": {},
   "outputs": [],
   "source": [
    "odd = (i ** 2 for i in [1,2,3,4,5,6,7,8,9,10]) # Create a generator\n",
    "ite = iter(odd)\n",
    "\n",
    "print(next(ite))\n",
    "print(next(ite))\n",
    "print(next(ite))\n",
    "print(next(ite))\n",
    "print(next(ite))\n",
    "print(next(ite))\n",
    "print(next(ite))\n",
    "print(next(ite))\n",
    "print(next(ite))\n",
    "print(next(ite))"
   ]
  },
  {
   "cell_type": "code",
   "execution_count": null,
   "metadata": {},
   "outputs": [],
   "source": [
    "odd = (i ** 2 for i in [1,2,3,4,5,6,7,8,9,10]) # Create a generator\n",
    "ite = iter(odd)\n",
    "\n",
    "while True:\n",
    "    try:\n",
    "        pos = next(ite)\n",
    "        print(pos)\n",
    "    except StopIteration:\n",
    "        break"
   ]
  },
  {
   "cell_type": "code",
   "execution_count": null,
   "metadata": {},
   "outputs": [],
   "source": [
    "odd = (i ** 2 for i in [1,2,3,4,5,6,7,8,9,10]) # Create a generator\n",
    "ite = iter(odd)\n",
    "\n",
    "for i in odd:\n",
    "    print(i)"
   ]
  },
  {
   "cell_type": "code",
   "execution_count": null,
   "metadata": {},
   "outputs": [],
   "source": [
    "# Filtrar la lista por las frutas que terminen en o usando un generador\n",
    "# ['mango', 'banano', 'papaya', 'piña', 'mora','melon', 'kiwi', 'cereza','manzana','pera','uva','mandarina']\n",
    "\n",
    "# Filtrar la lista por las frutas que terminen en a usando un generador y luego convertirlo en un iterador\n",
    "# ['mango', 'banano', 'papaya', 'piña', 'mora','melon', 'kiwi', 'cereza','manzana','pera','uva','mandarina']"
   ]
  },
  {
   "cell_type": "code",
   "execution_count": null,
   "metadata": {},
   "outputs": [],
   "source": [
    "frutas = ['mango', 'banano', 'papaya', 'piña', 'mora','melon', 'kiwi', 'cereza','manzana','pera','uva','mandarina', 'fresa', 'zapote', 'guanabana','carambolo','arandanos']"
   ]
  },
  {
   "cell_type": "code",
   "execution_count": null,
   "metadata": {},
   "outputs": [],
   "source": [
    "def filtro_o(F):\n",
    "    for i in F:\n",
    "        if i[-1]=='o':\n",
    "            yield i \n"
   ]
  },
  {
   "cell_type": "code",
   "execution_count": null,
   "metadata": {},
   "outputs": [],
   "source": [
    "gen = filtro_o(frutas)\n",
    "\n",
    "for i in gen:\n",
    "    print(i)"
   ]
  },
  {
   "cell_type": "code",
   "execution_count": null,
   "metadata": {},
   "outputs": [],
   "source": [
    "gen = (fruta for fruta in frutas if fruta[-1] == 'o')\n",
    "for i in gen:\n",
    "    print(i)"
   ]
  },
  {
   "cell_type": "code",
   "execution_count": null,
   "metadata": {},
   "outputs": [],
   "source": [
    "gen = (fruta for fruta in frutas if fruta[-1] == 'a')\n",
    "iterator = iter(gen)\n",
    "for i in iterator:\n",
    "    print(i)"
   ]
  },
  {
   "cell_type": "code",
   "execution_count": null,
   "metadata": {},
   "outputs": [],
   "source": []
  }
 ],
 "metadata": {
  "kernelspec": {
   "display_name": "Python 3",
   "language": "python",
   "name": "python3"
  },
  "language_info": {
   "codemirror_mode": {
    "name": "ipython",
    "version": 3
   },
   "file_extension": ".py",
   "mimetype": "text/x-python",
   "name": "python",
   "nbconvert_exporter": "python",
   "pygments_lexer": "ipython3",
   "version": "3.8.3"
  }
 },
 "nbformat": 4,
 "nbformat_minor": 2
}
