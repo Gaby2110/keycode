{
 "cells": [
  {
   "cell_type": "code",
   "execution_count": 1,
   "metadata": {},
   "outputs": [
    {
     "name": "stdout",
     "output_type": "stream",
     "text": [
      "\n"
     ]
    }
   ],
   "source": [
    "from libs_t3 import play"
   ]
  },
  {
   "cell_type": "code",
   "execution_count": 3,
   "metadata": {},
   "outputs": [
    {
     "name": "stdout",
     "output_type": "stream",
     "text": [
      "What name do you want to choose? a\n",
      "-----------------Character------------------\n",
      "choose your character\n",
      "1. Warrior\n",
      "2. Mage\n",
      "3. Elf\n",
      "4. Warrior Elf\n",
      "5. Warrior Mage\n",
      "6. Elf Mage\n",
      "which character do you want to be? 1\n",
      "-----------------------------------\n",
      "Hi i'm a warrior and my name is a\n",
      "HP 100\n",
      "Defensa 10\n",
      "Mana 100\n",
      "-----------------------------------\n",
      "Hi i'm a monster and my name is Quiron\n",
      "HP 100\n",
      "Defensa 10\n",
      "Mana 100\n",
      "--------------------------------------------Choose your attack---------------------------------------------\n",
      "I'm a warrior and have two options of attack\n",
      "The first attack option is the ax, have a power of 15 and the second one is the catapult, have a power of 20\n",
      "Which attack do you want to use?1\n",
      "------------------------------------------------------------------------------------------------------------\n",
      "a attack to Quiron with an ax that inflicts damage of 15\n",
      "a actual Mana: 85\n",
      "Quiron actual HP: 95\n",
      "-------------------------------------------- Monster attack---------------------------------------------\n",
      "I'm a centaur and have two options of attack\n",
      "The first attack option is the sword, have a power of 20 and the second one is a kick, have a power of 10\n",
      "------------------------------------------------------------------------------------------------------------\n",
      "Quiron attack to a with an sword\n",
      "Quiron actual Mana: 85\n",
      "a  actual HP: 90\n"
     ]
    }
   ],
   "source": [
    "play.start()"
   ]
  },
  {
   "cell_type": "code",
   "execution_count": null,
   "metadata": {},
   "outputs": [],
   "source": []
  }
 ],
 "metadata": {
  "kernelspec": {
   "display_name": "Python 3",
   "language": "python",
   "name": "python3"
  },
  "language_info": {
   "codemirror_mode": {
    "name": "ipython",
    "version": 3
   },
   "file_extension": ".py",
   "mimetype": "text/x-python",
   "name": "python",
   "nbconvert_exporter": "python",
   "pygments_lexer": "ipython3",
   "version": "3.8.3"
  }
 },
 "nbformat": 4,
 "nbformat_minor": 4
}
