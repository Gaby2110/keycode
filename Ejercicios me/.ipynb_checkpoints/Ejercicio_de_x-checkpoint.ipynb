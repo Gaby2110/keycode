{
 "cells": [
  {
   "cell_type": "code",
   "execution_count": 272,
   "metadata": {},
   "outputs": [
    {
     "name": "stdout",
     "output_type": "stream",
     "text": [
      "Anchura del rectángulo: 4\n",
      "Altura del rectángulo: 4\n",
      "\n",
      "* - - * - - \n",
      "* - - * - - \n",
      "* - - * - - \n",
      "* - - * - - "
     ]
    }
   ],
   "source": [
    "anchura = int(input(\"Anchura del rectángulo: \"))\n",
    "altura = int(input(\"Altura del rectángulo: \"))\n",
    "\n",
    "for i in range(altura):\n",
    "    print ()\n",
    "    for l in range(j+1):\n",
    "        print(\"* \", end=\"\")\n",
    "        for j in range(anchura-2):\n",
    "            print(\"- \", end=\"\")\n"
   ]
  },
  {
   "cell_type": "code",
   "execution_count": null,
   "metadata": {},
   "outputs": [],
   "source": [
    "\n",
    "for i in range(altura):\n",
    "    for j in range(anchura):\n",
    "        print(\"* \", end=\"\")\n",
    "    print()\n",
    "\n",
    "*--*\n",
    "-**-\n",
    "*--*"
   ]
  }
 ],
 "metadata": {
  "kernelspec": {
   "display_name": "Python 3",
   "language": "python",
   "name": "python3"
  },
  "language_info": {
   "codemirror_mode": {
    "name": "ipython",
    "version": 3
   },
   "file_extension": ".py",
   "mimetype": "text/x-python",
   "name": "python",
   "nbconvert_exporter": "python",
   "pygments_lexer": "ipython3",
   "version": "3.8.3"
  }
 },
 "nbformat": 4,
 "nbformat_minor": 4
}
