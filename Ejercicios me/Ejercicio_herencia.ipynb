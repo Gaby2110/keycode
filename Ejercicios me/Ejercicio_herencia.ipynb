{
 "cells": [
  {
   "cell_type": "code",
   "execution_count": 16,
   "metadata": {},
   "outputs": [
    {
     "name": "stdout",
     "output_type": "stream",
     "text": [
      "My name is Aslan\n",
      "My species is Canine\n",
      "My age is 4\n"
     ]
    }
   ],
   "source": [
    "class Animal(object):\n",
    "    def __init__(self,name,species,age):\n",
    "        self.name = name\n",
    "        self.species = species\n",
    "        self.age = age\n",
    "        \n",
    "    def say_name(self):\n",
    "        print (f'My name is {self.name}')\n",
    "    def say_species(self):\n",
    "        print (f'My species is {self.species}')\n",
    "    def say_age(self):\n",
    "        print (f'My age is {self.age}') \n",
    "        \n",
    "a = Animal(\"Aslan\",\"Canine\",\"4\")\n",
    "a.say_name()\n",
    "a.say_species()\n",
    "a.say_age()\n"
   ]
  },
  {
   "cell_type": "code",
   "execution_count": null,
   "metadata": {},
   "outputs": [],
   "source": [
    "class Perro(Animal):\n",
    "    "
   ]
  }
 ],
 "metadata": {
  "kernelspec": {
   "display_name": "Python 3",
   "language": "python",
   "name": "python3"
  },
  "language_info": {
   "codemirror_mode": {
    "name": "ipython",
    "version": 3
   },
   "file_extension": ".py",
   "mimetype": "text/x-python",
   "name": "python",
   "nbconvert_exporter": "python",
   "pygments_lexer": "ipython3",
   "version": "3.8.3"
  }
 },
 "nbformat": 4,
 "nbformat_minor": 4
}
