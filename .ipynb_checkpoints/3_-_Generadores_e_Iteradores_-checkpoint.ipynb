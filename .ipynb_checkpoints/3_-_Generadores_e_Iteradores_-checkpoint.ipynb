{
 "cells": [
  {
   "cell_type": "code",
   "execution_count": 1,
   "metadata": {},
   "outputs": [],
   "source": [
    "def odd_numbers(nums): # just a normal function\n",
    "    aux = []\n",
    "    for i in nums:\n",
    "        if i % 2 == 1:\n",
    "            aux.append(i)\n",
    "    \n",
    "    return aux"
   ]
  },
  {
   "cell_type": "code",
   "execution_count": 2,
   "metadata": {},
   "outputs": [
    {
     "data": {
      "text/plain": [
       "[1, 3, 5, 7, 9]"
      ]
     },
     "execution_count": 2,
     "metadata": {},
     "output_type": "execute_result"
    }
   ],
   "source": [
    "odd = odd_numbers([1,2,3,4,5,6,7,8,9,10])\n",
    "odd"
   ]
  },
  {
   "cell_type": "code",
   "execution_count": 3,
   "metadata": {},
   "outputs": [],
   "source": [
    "def odd_numbers(nums): # Generator\n",
    "    for i in nums:\n",
    "        if i % 2 == 1:\n",
    "            yield i\n",
    "    "
   ]
  },
  {
   "cell_type": "code",
   "execution_count": 6,
   "metadata": {},
   "outputs": [
    {
     "name": "stdout",
     "output_type": "stream",
     "text": [
      "1\n",
      "3\n",
      "5\n",
      "7\n",
      "9\n"
     ]
    }
   ],
   "source": [
    "odd = odd_numbers([1,2,3,4,5,6,7,8,9,10])\n",
    "print(next(odd))\n",
    "print(next(odd))\n",
    "print(next(odd))\n",
    "print(next(odd))\n",
    "print(next(odd))"
   ]
  },
  {
   "cell_type": "code",
   "execution_count": 7,
   "metadata": {},
   "outputs": [
    {
     "data": {
      "text/plain": [
       "<generator object <genexpr> at 0x000002042123E448>"
      ]
     },
     "execution_count": 7,
     "metadata": {},
     "output_type": "execute_result"
    }
   ],
   "source": [
    "odd = (i % 2 == 1 for i in [1,2,3,4,5,6,7,8,9,10])\n",
    "odd"
   ]
  },
  {
   "cell_type": "code",
   "execution_count": 8,
   "metadata": {},
   "outputs": [
    {
     "name": "stdout",
     "output_type": "stream",
     "text": [
      "True\n",
      "False\n",
      "True\n",
      "False\n",
      "True\n",
      "False\n",
      "True\n",
      "False\n",
      "True\n",
      "False\n"
     ]
    }
   ],
   "source": [
    "for i in odd:\n",
    "    print(i)"
   ]
  },
  {
   "cell_type": "code",
   "execution_count": 10,
   "metadata": {},
   "outputs": [
    {
     "data": {
      "text/plain": [
       "<generator object <genexpr> at 0x000002042123E048>"
      ]
     },
     "execution_count": 10,
     "metadata": {},
     "output_type": "execute_result"
    }
   ],
   "source": [
    "odd = (i for i in [1,2,3,4,5,6,7,8,9,10] if i % 2 == 1 )\n",
    "odd"
   ]
  },
  {
   "cell_type": "code",
   "execution_count": 11,
   "metadata": {},
   "outputs": [
    {
     "name": "stdout",
     "output_type": "stream",
     "text": [
      "1\n",
      "3\n",
      "5\n",
      "7\n",
      "9\n"
     ]
    }
   ],
   "source": [
    "for i in odd:\n",
    "    print(i)"
   ]
  },
  {
   "cell_type": "code",
   "execution_count": 12,
   "metadata": {},
   "outputs": [
    {
     "name": "stdout",
     "output_type": "stream",
     "text": [
      "impar\n",
      "par\n",
      "impar\n",
      "par\n",
      "impar\n",
      "par\n",
      "impar\n",
      "par\n",
      "impar\n",
      "par\n"
     ]
    }
   ],
   "source": [
    "odd = ('impar' if i % 2 == 1 else 'par' for i in [1,2,3,4,5,6,7,8,9,10])\n",
    "\n",
    "for i in odd:\n",
    "    print(i)"
   ]
  },
  {
   "cell_type": "code",
   "execution_count": 14,
   "metadata": {},
   "outputs": [
    {
     "data": {
      "text/plain": [
       "<generator object <genexpr> at 0x000002042123E8C8>"
      ]
     },
     "execution_count": 14,
     "metadata": {},
     "output_type": "execute_result"
    }
   ],
   "source": [
    "odd = (i ** 2 for i in [1,2,3,4,5,6,7,8,9,10]) # Create a generator\n",
    "odd"
   ]
  },
  {
   "cell_type": "code",
   "execution_count": 15,
   "metadata": {},
   "outputs": [
    {
     "name": "stdout",
     "output_type": "stream",
     "text": [
      "1\n",
      "4\n",
      "9\n",
      "16\n",
      "25\n",
      "36\n",
      "49\n",
      "64\n",
      "81\n",
      "100\n"
     ]
    }
   ],
   "source": [
    "for i in odd:\n",
    "    print(i)"
   ]
  },
  {
   "cell_type": "code",
   "execution_count": 18,
   "metadata": {},
   "outputs": [
    {
     "name": "stdout",
     "output_type": "stream",
     "text": [
      "[1, 4, 9, 16, 25, 36, 49, 64, 81, 100]\n"
     ]
    }
   ],
   "source": [
    "odd = (i ** 2 for i in [1,2,3,4,5,6,7,8,9,10]) \n",
    "print(list(odd)) # you lose all benefits of a generator"
   ]
  },
  {
   "cell_type": "code",
   "execution_count": 19,
   "metadata": {},
   "outputs": [],
   "source": [
    "def my_generator():\n",
    "    n = 1\n",
    "    print('Primero')\n",
    "    yield n\n",
    "\n",
    "    n += 1\n",
    "    print('Segundo')\n",
    "    yield n\n",
    "\n",
    "    n += 1\n",
    "    print('Tercero')\n",
    "    yield n"
   ]
  },
  {
   "cell_type": "code",
   "execution_count": 20,
   "metadata": {},
   "outputs": [],
   "source": [
    "gen = my_generator()"
   ]
  },
  {
   "cell_type": "code",
   "execution_count": 21,
   "metadata": {},
   "outputs": [
    {
     "name": "stdout",
     "output_type": "stream",
     "text": [
      "Primero\n"
     ]
    },
    {
     "data": {
      "text/plain": [
       "1"
      ]
     },
     "execution_count": 21,
     "metadata": {},
     "output_type": "execute_result"
    }
   ],
   "source": [
    "next(gen)"
   ]
  },
  {
   "cell_type": "code",
   "execution_count": 22,
   "metadata": {},
   "outputs": [
    {
     "name": "stdout",
     "output_type": "stream",
     "text": [
      "Segundo\n"
     ]
    },
    {
     "data": {
      "text/plain": [
       "2"
      ]
     },
     "execution_count": 22,
     "metadata": {},
     "output_type": "execute_result"
    }
   ],
   "source": [
    "next(gen)"
   ]
  },
  {
   "cell_type": "code",
   "execution_count": 23,
   "metadata": {},
   "outputs": [
    {
     "name": "stdout",
     "output_type": "stream",
     "text": [
      "Tercero\n"
     ]
    },
    {
     "data": {
      "text/plain": [
       "3"
      ]
     },
     "execution_count": 23,
     "metadata": {},
     "output_type": "execute_result"
    }
   ],
   "source": [
    "next(gen)"
   ]
  },
  {
   "cell_type": "code",
   "execution_count": 24,
   "metadata": {},
   "outputs": [],
   "source": [
    "def my_generator_2():\n",
    "    n = 1\n",
    "    print('Hola')\n",
    "    yield n\n",
    "\n",
    "    n += 1\n",
    "    print('Como estas')\n",
    "    yield n\n",
    "\n",
    "    n += 1\n",
    "    print('Bien')\n",
    "    yield n"
   ]
  },
  {
   "cell_type": "code",
   "execution_count": 25,
   "metadata": {},
   "outputs": [],
   "source": [
    "gen = my_generator_2()"
   ]
  },
  {
   "cell_type": "code",
   "execution_count": 26,
   "metadata": {},
   "outputs": [
    {
     "name": "stdout",
     "output_type": "stream",
     "text": [
      "Hola\n"
     ]
    },
    {
     "data": {
      "text/plain": [
       "1"
      ]
     },
     "execution_count": 26,
     "metadata": {},
     "output_type": "execute_result"
    }
   ],
   "source": [
    "next(gen)"
   ]
  },
  {
   "cell_type": "code",
   "execution_count": 27,
   "metadata": {},
   "outputs": [
    {
     "name": "stdout",
     "output_type": "stream",
     "text": [
      "Como estas\n"
     ]
    },
    {
     "data": {
      "text/plain": [
       "2"
      ]
     },
     "execution_count": 27,
     "metadata": {},
     "output_type": "execute_result"
    }
   ],
   "source": [
    "next(gen)"
   ]
  },
  {
   "cell_type": "code",
   "execution_count": 28,
   "metadata": {},
   "outputs": [
    {
     "name": "stdout",
     "output_type": "stream",
     "text": [
      "Bien\n"
     ]
    },
    {
     "data": {
      "text/plain": [
       "3"
      ]
     },
     "execution_count": 28,
     "metadata": {},
     "output_type": "execute_result"
    }
   ],
   "source": [
    "next(gen)"
   ]
  },
  {
   "cell_type": "code",
   "execution_count": 29,
   "metadata": {},
   "outputs": [],
   "source": [
    "import random\n",
    "# ! pip install memory_profiler\n",
    "%load_ext memory_profiler\n",
    "import time"
   ]
  },
  {
   "cell_type": "code",
   "execution_count": 30,
   "metadata": {},
   "outputs": [],
   "source": [
    "names = [\"josh\", \"jhonna\", \"michael\", \"tom\",\"diana\",\"kim\"]"
   ]
  },
  {
   "cell_type": "code",
   "execution_count": 31,
   "metadata": {},
   "outputs": [
    {
     "name": "stdout",
     "output_type": "stream",
     "text": [
      "peak memory: 339.49 MiB, increment: 286.94 MiB\n",
      "time used 0.796875\n",
      "Wall time: 1.36 s\n"
     ]
    }
   ],
   "source": [
    "%%time\n",
    "\n",
    "def create_people(num):\n",
    "    aux = []\n",
    "    for i in range(num):\n",
    "        person = {\n",
    "            'id': i,\n",
    "            'name': random.choice(names)\n",
    "        }\n",
    "        aux.append(person)\n",
    "    return aux\n",
    "t1 = time.process_time()\n",
    "%memit people = create_people(1000000)\n",
    "t2 = time.process_time()\n",
    "print(f'time used {t2-t1}')"
   ]
  },
  {
   "cell_type": "code",
   "execution_count": 32,
   "metadata": {},
   "outputs": [
    {
     "name": "stdout",
     "output_type": "stream",
     "text": [
      "peak memory: 53.21 MiB, increment: -286.37 MiB\n",
      "time used 0.125\n",
      "Wall time: 3.09 s\n"
     ]
    }
   ],
   "source": [
    "%%time\n",
    "\n",
    "\n",
    "def generate_people(num):\n",
    "    for i in range(num):\n",
    "        person = {\n",
    "            'id': i,\n",
    "            'name': random.choice(names)\n",
    "        }\n",
    "        yield person\n",
    "\n",
    "        \n",
    "t1 = time.process_time()\n",
    "%memit people = generate_people(1000000)\n",
    "t2 = time.process_time()\n",
    "print(f'time used {t2-t1}')"
   ]
  },
  {
   "cell_type": "code",
   "execution_count": 33,
   "metadata": {},
   "outputs": [
    {
     "name": "stdout",
     "output_type": "stream",
     "text": [
      "peak memory: 1486.61 MiB, increment: 1433.33 MiB\n",
      "time used 4.140625\n",
      "Wall time: 4.66 s\n"
     ]
    }
   ],
   "source": [
    "%%time\n",
    "\n",
    "def create_people(num):\n",
    "    aux = []\n",
    "    for i in range(num):\n",
    "        person = {\n",
    "            'id': i,\n",
    "            'name': random.choice(names)\n",
    "        }\n",
    "        aux.append(person)\n",
    "    return aux\n",
    "t1 = time.process_time()\n",
    "%memit people = create_people(5000000)\n",
    "t2 = time.process_time()\n",
    "print(f'time used {t2-t1}')"
   ]
  },
  {
   "cell_type": "code",
   "execution_count": 34,
   "metadata": {},
   "outputs": [
    {
     "name": "stdout",
     "output_type": "stream",
     "text": [
      "peak memory: 1486.61 MiB, increment: 0.00 MiB\n",
      "time used 0.484375\n",
      "Wall time: 1.04 s\n"
     ]
    }
   ],
   "source": [
    "%%time\n",
    "\n",
    "\n",
    "def generate_people(num):\n",
    "    for i in range(num):\n",
    "        person = {\n",
    "            'id': i,\n",
    "            'name': random.choice(names)\n",
    "        }\n",
    "        yield person\n",
    "\n",
    "        \n",
    "t1 = time.process_time()\n",
    "%memit people = generate_people(5000000)\n",
    "t2 = time.process_time()\n",
    "print(f'time used {t2-t1}')"
   ]
  },
  {
   "cell_type": "code",
   "execution_count": 35,
   "metadata": {},
   "outputs": [
    {
     "name": "stdout",
     "output_type": "stream",
     "text": [
      "pineapple\n",
      "blackberry\n",
      "cherry\n",
      "strawberry\n"
     ]
    }
   ],
   "source": [
    "t = (\"pineapple\", \"blackberry\", \"cherry\", \"strawberry\") # tuple\n",
    "ite = iter(t)\n",
    "\n",
    "print(next(ite))\n",
    "print(next(ite))\n",
    "print(next(ite))\n",
    "print(next(ite))\n"
   ]
  },
  {
   "cell_type": "code",
   "execution_count": 36,
   "metadata": {},
   "outputs": [
    {
     "name": "stdout",
     "output_type": "stream",
     "text": [
      "p\n",
      "i\n",
      "n\n",
      "e\n",
      "a\n",
      "p\n",
      "p\n",
      "l\n",
      "e\n"
     ]
    }
   ],
   "source": [
    "str = \"pineapple\" # String\n",
    "it = iter(str)\n",
    "\n",
    "print(next(it))\n",
    "print(next(it))\n",
    "print(next(it))\n",
    "print(next(it))\n",
    "print(next(it))\n",
    "print(next(it))\n",
    "print(next(it))\n",
    "print(next(it))\n",
    "print(next(it))"
   ]
  },
  {
   "cell_type": "code",
   "execution_count": 37,
   "metadata": {},
   "outputs": [
    {
     "name": "stdout",
     "output_type": "stream",
     "text": [
      "pineapple\n",
      "blackberry\n",
      "cherry\n",
      "strawberry\n"
     ]
    }
   ],
   "source": [
    "l = [\"pineapple\", \"blackberry\", \"cherry\", \"strawberry\"] # List\n",
    "ite = iter(t)\n",
    "\n",
    "print(next(ite))\n",
    "print(next(ite))\n",
    "print(next(ite))\n",
    "print(next(ite))"
   ]
  },
  {
   "cell_type": "code",
   "execution_count": 38,
   "metadata": {},
   "outputs": [
    {
     "name": "stdout",
     "output_type": "stream",
     "text": [
      "pineapple\n",
      "blackberry\n",
      "cherry\n",
      "strawberry\n"
     ]
    }
   ],
   "source": [
    "d = {1:\"pineapple\", 2:\"blackberry\", 3:\"cherry\", 4:\"strawberry\"} # Dictionary\n",
    "ite = iter(t)\n",
    "\n",
    "print(next(ite))\n",
    "print(next(ite))\n",
    "print(next(ite))\n",
    "print(next(ite))"
   ]
  },
  {
   "cell_type": "code",
   "execution_count": 39,
   "metadata": {},
   "outputs": [
    {
     "name": "stdout",
     "output_type": "stream",
     "text": [
      "1\n",
      "4\n",
      "9\n",
      "16\n",
      "25\n",
      "36\n",
      "49\n",
      "64\n",
      "81\n",
      "100\n"
     ]
    }
   ],
   "source": [
    "odd = (i ** 2 for i in [1,2,3,4,5,6,7,8,9,10]) # Create a generator\n",
    "ite = iter(odd)\n",
    "\n",
    "print(next(ite))\n",
    "print(next(ite))\n",
    "print(next(ite))\n",
    "print(next(ite))\n",
    "print(next(ite))\n",
    "print(next(ite))\n",
    "print(next(ite))\n",
    "print(next(ite))\n",
    "print(next(ite))\n",
    "print(next(ite))"
   ]
  },
  {
   "cell_type": "code",
   "execution_count": 40,
   "metadata": {},
   "outputs": [
    {
     "name": "stdout",
     "output_type": "stream",
     "text": [
      "1\n",
      "4\n",
      "9\n",
      "16\n",
      "25\n",
      "36\n",
      "49\n",
      "64\n",
      "81\n",
      "100\n"
     ]
    }
   ],
   "source": [
    "odd = (i ** 2 for i in [1,2,3,4,5,6,7,8,9,10]) # Create a generator\n",
    "ite = iter(odd)\n",
    "\n",
    "while True:\n",
    "    try:\n",
    "        pos = next(ite)\n",
    "        print(pos)\n",
    "    except StopIteration:\n",
    "        break"
   ]
  },
  {
   "cell_type": "code",
   "execution_count": 41,
   "metadata": {},
   "outputs": [
    {
     "name": "stdout",
     "output_type": "stream",
     "text": [
      "1\n",
      "4\n",
      "9\n",
      "16\n",
      "25\n",
      "36\n",
      "49\n",
      "64\n",
      "81\n",
      "100\n"
     ]
    }
   ],
   "source": [
    "odd = (i ** 2 for i in [1,2,3,4,5,6,7,8,9,10]) # Create a generator\n",
    "ite = iter(odd)\n",
    "\n",
    "for i in odd:\n",
    "    print(i)"
   ]
  },
  {
   "cell_type": "code",
   "execution_count": null,
   "metadata": {},
   "outputs": [],
   "source": [
    "# Filtrar la lista por las frutas que terminen en o usando un generador\n",
    "# ['mango', 'banano', 'papaya', 'piña', 'mora','melon', 'kiwi', 'cereza','manzana','pera','uva','mandarina']\n",
    "\n",
    "# Filtrar la lista por las frutas que terminen en a usando un generador y luego convertirlo en un iterador\n",
    "# ['mango', 'banano', 'papaya', 'piña', 'mora','melon', 'kiwi', 'cereza','manzana','pera','uva','mandarina']"
   ]
  },
  {
   "cell_type": "code",
   "execution_count": 63,
   "metadata": {},
   "outputs": [],
   "source": [
    "frutas = ['mango', 'banano', 'papaya', 'piña', 'mora','melon', 'kiwi', 'cereza','manzana','pera','uva','mandarina', 'fresa', 'zapote', 'guanabana','carambolo','arandanos']"
   ]
  },
  {
   "cell_type": "code",
   "execution_count": 64,
   "metadata": {},
   "outputs": [],
   "source": [
    "def filtro_o(F):\n",
    "    for i in F:\n",
    "        if i[-1]=='o':\n",
    "            yield i \n"
   ]
  },
  {
   "cell_type": "code",
   "execution_count": 65,
   "metadata": {},
   "outputs": [
    {
     "name": "stdout",
     "output_type": "stream",
     "text": [
      "mango\n",
      "banano\n",
      "carambolo\n"
     ]
    }
   ],
   "source": [
    "gen = filtro_o(frutas)\n",
    "\n",
    "for i in gen:\n",
    "    print(i)"
   ]
  },
  {
   "cell_type": "code",
   "execution_count": 66,
   "metadata": {},
   "outputs": [
    {
     "name": "stdout",
     "output_type": "stream",
     "text": [
      "mango\n",
      "banano\n",
      "carambolo\n"
     ]
    }
   ],
   "source": [
    "gen = (fruta for fruta in frutas if fruta[-1] == 'o')\n",
    "for i in gen:\n",
    "    print(i)"
   ]
  },
  {
   "cell_type": "code",
   "execution_count": 67,
   "metadata": {},
   "outputs": [
    {
     "name": "stdout",
     "output_type": "stream",
     "text": [
      "papaya\n",
      "piña\n",
      "mora\n",
      "cereza\n",
      "manzana\n",
      "pera\n",
      "uva\n",
      "mandarina\n",
      "fresa\n",
      "guanabana\n"
     ]
    }
   ],
   "source": [
    "gen = (fruta for fruta in frutas if fruta[-1] == 'a')\n",
    "iterator = iter(gen)\n",
    "for i in iterator:\n",
    "    print(i)"
   ]
  },
  {
   "cell_type": "code",
   "execution_count": null,
   "metadata": {},
   "outputs": [],
   "source": []
  }
 ],
 "metadata": {
  "kernelspec": {
   "display_name": "Python 3",
   "language": "python",
   "name": "python3"
  },
  "language_info": {
   "codemirror_mode": {
    "name": "ipython",
    "version": 3
   },
   "file_extension": ".py",
   "mimetype": "text/x-python",
   "name": "python",
   "nbconvert_exporter": "python",
   "pygments_lexer": "ipython3",
   "version": "3.7.4"
  }
 },
 "nbformat": 4,
 "nbformat_minor": 2
}
