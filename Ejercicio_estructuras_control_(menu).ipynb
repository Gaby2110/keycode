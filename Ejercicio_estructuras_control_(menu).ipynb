{
 "cells": [
  {
   "cell_type": "code",
   "execution_count": null,
   "metadata": {},
   "outputs": [
    {
     "name": "stdout",
     "output_type": "stream",
     "text": [
      "Ingrese 1 si la operación que desea hacer es suma: \n",
      "Ingrese 2 si la operación que desea hacer es resta: \n",
      "Ingrese 3 si la operación que desea hacer es multiplicación: \n",
      "Ingrese 4 si la operación que desea hacer es división: \n",
      "Número: 4\n",
      "Número 1: 0\n",
      "Número 2: 0\n",
      "Opción no valida\n",
      "oki doki\n",
      "Ingrese 1 si la operación que desea hacer es suma: \n",
      "Ingrese 2 si la operación que desea hacer es resta: \n",
      "Ingrese 3 si la operación que desea hacer es multiplicación: \n",
      "Ingrese 4 si la operación que desea hacer es división: \n"
     ]
    }
   ],
   "source": [
    "while True:\n",
    "    try:\n",
    "        print(\"Ingrese 1 si la operación que desea hacer es suma: \")\n",
    "        print(\"Ingrese 2 si la operación que desea hacer es resta: \")\n",
    "        print(\"Ingrese 3 si la operación que desea hacer es multiplicación: \")\n",
    "        print(\"Ingrese 4 si la operación que desea hacer es división: \")\n",
    "        num = int(input(\"Número: \"))\n",
    "        num1 = int(input(\"Número 1: \"))\n",
    "        num2 = int(input(\"Número 2: \"))\n",
    "        if num == 1:\n",
    "            def suma():\n",
    "                print (num1+num2)\n",
    "            suma()\n",
    "        if num == 2:\n",
    "            def resta():\n",
    "                print (num1-num2)\n",
    "            resta()\n",
    "        if num == 3:\n",
    "            def mult():\n",
    "                print (num1*num2)\n",
    "            mult()\n",
    "        if num == 4:\n",
    "            def divi():\n",
    "                print (num1/num2)\n",
    "            divi()\n",
    "        break \n",
    "    except:\n",
    "        print(\"Opción no valida\")\n",
    "        pass\n",
    "    else:\n",
    "        print(\"uwu\")\n",
    "    finally:\n",
    "        print(\"oki doki\")"
   ]
  },
  {
   "cell_type": "code",
   "execution_count": 2,
   "metadata": {},
   "outputs": [
    {
     "name": "stdout",
     "output_type": "stream",
     "text": [
      "Antes: A veces las cosas\n",
      "Después: no son lo que parecen\n"
     ]
    }
   ],
   "source": [
    "def magia():\n",
    "    msg = 'A veces las cosas'\n",
    "    print(f'Antes: {msg}')\n",
    "    def chamanica():\n",
    "        nonlocal msg\n",
    "        msg = 'no son lo que parecen'\n",
    "        print (f'Después: {msg}')\n",
    "    chamanica()\n",
    "    \n",
    "magia()"
   ]
  },
  {
   "cell_type": "code",
   "execution_count": 5,
   "metadata": {},
   "outputs": [
    {
     "name": "stdout",
     "output_type": "stream",
     "text": [
      "1. Chocolate con pan\n",
      "2. huevos revueltos con jamón\n",
      "3. Melón\n",
      "4. Empanada\n",
      "Selecciona una opción, ingresa el número de esa opción: 1\n",
      "El chocolate con pan cuesta 6000 8000\n",
      "End\n"
     ]
    }
   ],
   "source": [
    "while True:\n",
    "    try:\n",
    "        print ('1. Chocolate con pan')\n",
    "        print ('2. huevos revueltos con jamón')\n",
    "        print ('3. Melón')\n",
    "        print ('4. Empanada')\n",
    "        opcion = int(input(\"Selecciona una opción, ingresa el número de esa opción: \"))\n",
    "        if opcion ==1:\n",
    "            precio = 5000\n",
    "            print(f'El chocolate con pan cuesta {precio}')\n",
    "        if opcion ==2:\n",
    "            precio = 4000\n",
    "            print(f'Los huevos revueltos con jamón cuestan {precio}')\n",
    "        if opcion ==3:\n",
    "            precio = 4000\n",
    "            print(f'El melón cuestan {precio}')\n",
    "        if opcion ==4:\n",
    "            precio = 2000\n",
    "            print(f'La empanada cuesta {precio}')\n",
    "        break\n",
    "    except:\n",
    "        pass\n",
    "    else:\n",
    "        print(\"OK\")\n",
    "    finally:\n",
    "        print(\"End\")"
   ]
  },
  {
   "cell_type": "code",
   "execution_count": null,
   "metadata": {},
   "outputs": [],
   "source": []
  }
 ],
 "metadata": {
  "kernelspec": {
   "display_name": "Python 3",
   "language": "python",
   "name": "python3"
  },
  "language_info": {
   "codemirror_mode": {
    "name": "ipython",
    "version": 3
   },
   "file_extension": ".py",
   "mimetype": "text/x-python",
   "name": "python",
   "nbconvert_exporter": "python",
   "pygments_lexer": "ipython3",
   "version": "3.8.3"
  }
 },
 "nbformat": 4,
 "nbformat_minor": 4
}
