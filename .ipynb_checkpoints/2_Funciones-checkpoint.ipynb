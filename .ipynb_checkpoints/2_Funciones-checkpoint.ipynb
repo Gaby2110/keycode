{
 "cells": [
  {
   "cell_type": "code",
   "execution_count": 1,
   "metadata": {},
   "outputs": [
    {
     "data": {
      "text/plain": [
       "13"
      ]
     },
     "execution_count": 1,
     "metadata": {},
     "output_type": "execute_result"
    }
   ],
   "source": [
    "1 + 2\n",
    "2 + 3\n",
    "3 + 4\n",
    "4 + 5\n",
    "5 + 6\n",
    "6 + 7 \n"
   ]
  },
  {
   "cell_type": "code",
   "execution_count": 2,
   "metadata": {},
   "outputs": [
    {
     "name": "stdout",
     "output_type": "stream",
     "text": [
      "[0, 1, 2, 3, 4, 5, 6, 7, 8, 9] <class 'list'>\n",
      "Help on built-in function reverse:\n",
      "\n",
      "reverse() method of builtins.list instance\n",
      "    Reverse *IN PLACE*.\n",
      "\n",
      "None\n",
      "A = 10 y B = 11\n",
      "suma = 3\n",
      "A = 9 y B = 10\n",
      "suma = 3\n",
      "A = 8 y B = 9\n",
      "suma = 3\n",
      "A = 7 y B = 8\n",
      "suma = 3\n",
      "A = 6 y B = 7\n",
      "suma = 3\n",
      "A = 5 y B = 6\n",
      "suma = 3\n",
      "A = 4 y B = 5\n",
      "suma = 3\n",
      "A = 3 y B = 4\n",
      "suma = 3\n",
      "A = 2 y B = 3\n",
      "suma = 3\n",
      "A = 1 y B = 2\n",
      "suma = 3\n"
     ]
    }
   ],
   "source": [
    "a = 1\n",
    "b = 2\n",
    "lista = [0,1,2,3,4,5,6,7,8,9]\n",
    "print(lista, type(lista))\n",
    "print(help(lista.reverse))\n",
    "lista.reverse()\n",
    "for i in lista:\n",
    "    print(f'A = {a+i} y B = {b+i}')\n",
    "    print(f'suma = {a+b}')"
   ]
  },
  {
   "cell_type": "code",
   "execution_count": 3,
   "metadata": {},
   "outputs": [],
   "source": [
    "def suma_con(a,b):\n",
    "    return a+b\n",
    "    \n",
    "def suma_sin(a,b):\n",
    "    print(a+b)\n",
    "    \n",
    "def suma_tri(a,b,c):\n",
    "    return a+b+c"
   ]
  },
  {
   "cell_type": "code",
   "execution_count": 4,
   "metadata": {},
   "outputs": [
    {
     "name": "stdout",
     "output_type": "stream",
     "text": [
      "3\n"
     ]
    }
   ],
   "source": [
    "a = suma_con(1,2)\n",
    "print(a)"
   ]
  },
  {
   "cell_type": "code",
   "execution_count": 5,
   "metadata": {},
   "outputs": [
    {
     "name": "stdout",
     "output_type": "stream",
     "text": [
      "3\n",
      "None\n"
     ]
    }
   ],
   "source": [
    "a = suma_sin(1,2)\n",
    "print(a)"
   ]
  },
  {
   "cell_type": "code",
   "execution_count": 6,
   "metadata": {},
   "outputs": [
    {
     "name": "stdout",
     "output_type": "stream",
     "text": [
      "6\n"
     ]
    }
   ],
   "source": [
    "a = suma_tri(1,2,3)\n",
    "print(a)"
   ]
  },
  {
   "cell_type": "code",
   "execution_count": 7,
   "metadata": {},
   "outputs": [
    {
     "name": "stdout",
     "output_type": "stream",
     "text": [
      "6\n",
      "2\n"
     ]
    }
   ],
   "source": [
    "print(a)\n",
    "print(b)"
   ]
  },
  {
   "cell_type": "code",
   "execution_count": 8,
   "metadata": {},
   "outputs": [],
   "source": [
    "# cuando retorno\n",
    "def reverse(lista):\n",
    "    lista.reverse()\n",
    "    return lista\n",
    "\n",
    "# cuando no retorno\n",
    "def reverse2(lista):\n",
    "    lista.reverse()\n",
    "    #print(lista)"
   ]
  },
  {
   "cell_type": "code",
   "execution_count": 9,
   "metadata": {},
   "outputs": [
    {
     "name": "stdout",
     "output_type": "stream",
     "text": [
      "[3, 2, 1]\n"
     ]
    }
   ],
   "source": [
    "a = [1,2,3]\n",
    "a = reverse(a)\n",
    "print(a)\n"
   ]
  },
  {
   "cell_type": "code",
   "execution_count": 10,
   "metadata": {},
   "outputs": [
    {
     "name": "stdout",
     "output_type": "stream",
     "text": [
      "None\n"
     ]
    }
   ],
   "source": [
    "a = [1,2,3]\n",
    "a = reverse2(a)\n",
    "print(a)"
   ]
  },
  {
   "cell_type": "code",
   "execution_count": 11,
   "metadata": {},
   "outputs": [],
   "source": [
    "# def nombre (opcional: parametros | si es mas de uno se separa por , ):\n",
    "#TAB(8 esp) codígo\n",
    "\n",
    "def suma_con(a,b):\n",
    "    if isinstance(a, int) and isinstance(b, int):\n",
    "        result = a+b\n",
    "        return result\n",
    "    else:\n",
    "        print('no son numeros')\n",
    "    \n",
    "def suma_sin(a,b):\n",
    "    print(a+b)\n",
    "    \n",
    "def resta_con(a,b):\n",
    "    return a-b\n",
    "    \n",
    "def resta_sin(a,b):\n",
    "    print(a-b)\n",
    "    \n",
    "def multi_con(a,b):\n",
    "    return a*b\n",
    "    \n",
    "def multi_sin(a,b):\n",
    "    print(a*b)\n",
    "    \n",
    "def divi_con(a,b):\n",
    "    return a/b\n",
    "    \n",
    "def divi_sin(a,b):\n",
    "    print(a/b)\n",
    "\n"
   ]
  },
  {
   "cell_type": "code",
   "execution_count": 12,
   "metadata": {},
   "outputs": [
    {
     "name": "stdout",
     "output_type": "stream",
     "text": [
      "no son numeros\n"
     ]
    }
   ],
   "source": [
    "suma_con('1','2')"
   ]
  },
  {
   "cell_type": "markdown",
   "metadata": {},
   "source": [
    "# Recursividad"
   ]
  },
  {
   "cell_type": "code",
   "execution_count": 13,
   "metadata": {},
   "outputs": [],
   "source": [
    "# iterador contador y condicion\n",
    "\n",
    "count = 0\n",
    "\n",
    "def recorrer(count):\n",
    "    # print('Inicio recursividad')\n",
    "    print(count)\n",
    "    if count < 10:\n",
    "        count += 1\n",
    "        recorrer(count)\n",
    "    else:\n",
    "        print('fin')"
   ]
  },
  {
   "cell_type": "code",
   "execution_count": 14,
   "metadata": {},
   "outputs": [
    {
     "name": "stdout",
     "output_type": "stream",
     "text": [
      "0\n",
      "1\n",
      "2\n",
      "3\n",
      "4\n",
      "5\n",
      "6\n",
      "7\n",
      "8\n",
      "9\n",
      "10\n",
      "fin\n"
     ]
    }
   ],
   "source": [
    "recorrer(count)"
   ]
  },
  {
   "cell_type": "code",
   "execution_count": 15,
   "metadata": {},
   "outputs": [],
   "source": [
    "lista = ['a','b','c','d','e']\n",
    "count = 0\n",
    "\n",
    "def recorrer(count, x):\n",
    "    # print('Inicio recursividad')\n",
    "    lon = count\n",
    "    if count < len(x):\n",
    "        print(x[count])\n",
    "        count += 1\n",
    "        recorrer(count, x)\n",
    "   "
   ]
  },
  {
   "cell_type": "code",
   "execution_count": 16,
   "metadata": {},
   "outputs": [
    {
     "name": "stdout",
     "output_type": "stream",
     "text": [
      "a\n",
      "b\n",
      "c\n",
      "d\n",
      "e\n"
     ]
    }
   ],
   "source": [
    "recorrer(count, lista)"
   ]
  },
  {
   "cell_type": "code",
   "execution_count": 17,
   "metadata": {},
   "outputs": [
    {
     "name": "stdout",
     "output_type": "stream",
     "text": [
      "a\n",
      "b\n",
      "c\n",
      "d\n",
      "e\n"
     ]
    }
   ],
   "source": [
    "longitud = recorrer(count, lista)"
   ]
  },
  {
   "cell_type": "code",
   "execution_count": 18,
   "metadata": {},
   "outputs": [
    {
     "name": "stdout",
     "output_type": "stream",
     "text": [
      "None\n"
     ]
    }
   ],
   "source": [
    "print(longitud)"
   ]
  },
  {
   "cell_type": "code",
   "execution_count": 19,
   "metadata": {},
   "outputs": [],
   "source": [
    "def fibo(pos):\n",
    "    if pos<1:\n",
    "        print('error')\n",
    "    elif pos == 1:\n",
    "        return 0\n",
    "    elif pos == 2:\n",
    "        return 1\n",
    "    else:\n",
    "        return fibo(pos - 1) + fibo(pos - 2)\n",
    "        "
   ]
  },
  {
   "cell_type": "code",
   "execution_count": 20,
   "metadata": {},
   "outputs": [
    {
     "data": {
      "text/plain": [
       "0"
      ]
     },
     "execution_count": 20,
     "metadata": {},
     "output_type": "execute_result"
    }
   ],
   "source": [
    "fibo(1)"
   ]
  },
  {
   "cell_type": "code",
   "execution_count": 21,
   "metadata": {},
   "outputs": [
    {
     "name": "stdout",
     "output_type": "stream",
     "text": [
      "0\n",
      "1\n",
      "1\n",
      "2\n",
      "3\n",
      "5\n",
      "8\n",
      "13\n",
      "21\n"
     ]
    }
   ],
   "source": [
    "for i in range(1,10):\n",
    "    print(fibo(i))"
   ]
  },
  {
   "cell_type": "markdown",
   "metadata": {},
   "source": [
    "# Funciones Especiales"
   ]
  },
  {
   "cell_type": "code",
   "execution_count": 41,
   "metadata": {},
   "outputs": [],
   "source": [
    "# Null = Existe pero tiene un valor nulo \n",
    "# Vacio = no existe"
   ]
  },
  {
   "cell_type": "code",
   "execution_count": 27,
   "metadata": {},
   "outputs": [],
   "source": [
    "def suma(a=0, b=1):\n",
    "    return a + b"
   ]
  },
  {
   "cell_type": "code",
   "execution_count": 28,
   "metadata": {},
   "outputs": [
    {
     "data": {
      "text/plain": [
       "1"
      ]
     },
     "execution_count": 28,
     "metadata": {},
     "output_type": "execute_result"
    }
   ],
   "source": [
    "suma()"
   ]
  },
  {
   "cell_type": "code",
   "execution_count": 78,
   "metadata": {},
   "outputs": [],
   "source": [
    "def op_functions(l,*args):\n",
    "    \n",
    "    if args:\n",
    "        print('hay argumentos extra')\n",
    "        print(args)\n",
    "        if args[0] == 1:\n",
    "            '''\n",
    "                1 = Promedio\n",
    "            '''\n",
    "            prom = 0\n",
    "            for i in l:\n",
    "                prom += i\n",
    "            return prom/len(l)\n",
    "        elif args[0] == 2:\n",
    "            '''\n",
    "                2 = Par o impar\n",
    "            '''\n",
    "            result = []\n",
    "            for i in l:\n",
    "                if i % 2 == 0:\n",
    "                    result.append('par')\n",
    "                else:\n",
    "                    result.append('impar')\n",
    "            return result\n",
    "        elif args[0] == 3:\n",
    "            '''\n",
    "                3 = Mediana\n",
    "            '''\n",
    "            if len(l) % 2 == 0:\n",
    "                return ((l[len(l)//2]) + (l[(len(l)//2) - 1]))/2\n",
    "            else:\n",
    "                #return f'Mediana: {l[len(l)//2]}'\n",
    "                return l[len(l)//2]\n",
    "    else:\n",
    "        print('no hay argumentos extra')"
   ]
  },
  {
   "cell_type": "code",
   "execution_count": 79,
   "metadata": {},
   "outputs": [],
   "source": [
    "lista = [1,2,3,4,5]"
   ]
  },
  {
   "cell_type": "code",
   "execution_count": 80,
   "metadata": {},
   "outputs": [
    {
     "name": "stdout",
     "output_type": "stream",
     "text": [
      "hay argumentos extra\n",
      "(3,)\n"
     ]
    },
    {
     "data": {
      "text/plain": [
       "'Mediana: 3'"
      ]
     },
     "execution_count": 80,
     "metadata": {},
     "output_type": "execute_result"
    }
   ],
   "source": [
    "op_functions(lista,3)"
   ]
  },
  {
   "cell_type": "code",
   "execution_count": 122,
   "metadata": {},
   "outputs": [],
   "source": [
    "def op_functions_2(l,**kargs):\n",
    "    \n",
    "    if kargs.keys():\n",
    "        print('hay argumentos extra')\n",
    "        # print(kargs.keys())\n",
    "        if 'prom' in kargs.keys():            \n",
    "            if kargs['prom'] == True:\n",
    "                '''\n",
    "                    Promedio\n",
    "                '''\n",
    "                prom = 0\n",
    "                for i in l:\n",
    "                    prom += i\n",
    "                return prom/len(l)\n",
    "        \n",
    "        if 'odd' in kargs.keys():\n",
    "            \n",
    "            if kargs['odd'] == True:\n",
    "                '''\n",
    "                    Par o impar\n",
    "                '''\n",
    "                result = []\n",
    "                for i in l:\n",
    "                    if i % 2 == 0:\n",
    "                        result.append('par')\n",
    "                    else:\n",
    "                        result.append('impar')\n",
    "                return result\n",
    "            \n",
    "        if 'median' in kargs.keys():\n",
    "            \n",
    "            if kargs['median'] == True:\n",
    "                '''\n",
    "                    Mediana\n",
    "                '''\n",
    "                if len(l) % 2 == 0:\n",
    "                    return ((l[len(l)//2]) + (l[(len(l)//2) - 1]))/2\n",
    "                else:\n",
    "                    return l[len(l)//2]\n",
    "    else:\n",
    "        print('no hay argumentos extra')"
   ]
  },
  {
   "cell_type": "code",
   "execution_count": 124,
   "metadata": {},
   "outputs": [
    {
     "name": "stdout",
     "output_type": "stream",
     "text": [
      "hay argumentos extra\n"
     ]
    },
    {
     "data": {
      "text/plain": [
       "3"
      ]
     },
     "execution_count": 124,
     "metadata": {},
     "output_type": "execute_result"
    }
   ],
   "source": [
    "op_functions_2(lista, median=True)"
   ]
  },
  {
   "cell_type": "code",
   "execution_count": 131,
   "metadata": {},
   "outputs": [],
   "source": [
    "def op_functions_3(l, *args, **kargs):\n",
    "    \n",
    "    '''\n",
    "        args disponibles:\n",
    "        1 = prom\n",
    "        2 = par o impar\n",
    "        3 = mediana\n",
    "    '''\n",
    "    \n",
    "    '''\n",
    "        kargs disponibles:\n",
    "        'prom' == True => retorna el promedio\n",
    "        'odd' == True => retorna una lista con los pares e impares\n",
    "        'meadian' == True => retorna la mediana de la lista\n",
    "    '''\n",
    "    \n",
    "    if args:\n",
    "        print('hay parametros simples adicionales')\n",
    "        print(args)\n",
    "    \n",
    "    if kargs.keys():\n",
    "        print('hay parametros complejos adicionales')\n",
    "        print(kargs)\n",
    "    "
   ]
  },
  {
   "cell_type": "code",
   "execution_count": 134,
   "metadata": {},
   "outputs": [
    {
     "name": "stdout",
     "output_type": "stream",
     "text": [
      "hay parametros simples adicionales\n",
      "(1,)\n",
      "hay parametros complejos adicionales\n",
      "{'prom': True}\n"
     ]
    }
   ],
   "source": [
    "op_functions_3(lista, 1, prom=True)"
   ]
  },
  {
   "cell_type": "markdown",
   "metadata": {},
   "source": [
    "# Funciones anonimas"
   ]
  },
  {
   "cell_type": "code",
   "execution_count": 135,
   "metadata": {},
   "outputs": [],
   "source": [
    "x = lambda a : a + 1"
   ]
  },
  {
   "cell_type": "code",
   "execution_count": 136,
   "metadata": {},
   "outputs": [
    {
     "name": "stdout",
     "output_type": "stream",
     "text": [
      "6\n"
     ]
    }
   ],
   "source": [
    "print(x(5))"
   ]
  },
  {
   "cell_type": "code",
   "execution_count": 137,
   "metadata": {},
   "outputs": [],
   "source": [
    "s = lambda a,b : a + b"
   ]
  },
  {
   "cell_type": "code",
   "execution_count": 138,
   "metadata": {},
   "outputs": [
    {
     "name": "stdout",
     "output_type": "stream",
     "text": [
      "4\n"
     ]
    }
   ],
   "source": [
    "print(s(2,2))"
   ]
  },
  {
   "cell_type": "code",
   "execution_count": 139,
   "metadata": {},
   "outputs": [],
   "source": [
    "z = lambda a,b,c,d,e : (a + b) + (c + d) / e "
   ]
  },
  {
   "cell_type": "code",
   "execution_count": 140,
   "metadata": {},
   "outputs": [
    {
     "name": "stdout",
     "output_type": "stream",
     "text": [
      "4.4\n"
     ]
    }
   ],
   "source": [
    "print(z(1,2,3,4,5))"
   ]
  },
  {
   "cell_type": "code",
   "execution_count": 144,
   "metadata": {},
   "outputs": [],
   "source": [
    "def power():\n",
    "    return lambda a : a ** 2"
   ]
  },
  {
   "cell_type": "code",
   "execution_count": 145,
   "metadata": {},
   "outputs": [],
   "source": [
    "p = power()"
   ]
  },
  {
   "cell_type": "code",
   "execution_count": 146,
   "metadata": {},
   "outputs": [
    {
     "data": {
      "text/plain": [
       "4"
      ]
     },
     "execution_count": 146,
     "metadata": {},
     "output_type": "execute_result"
    }
   ],
   "source": [
    "p(2)"
   ]
  },
  {
   "cell_type": "code",
   "execution_count": 153,
   "metadata": {},
   "outputs": [
    {
     "data": {
      "text/plain": [
       "9"
      ]
     },
     "execution_count": 153,
     "metadata": {},
     "output_type": "execute_result"
    }
   ],
   "source": [
    "p(3)"
   ]
  },
  {
   "cell_type": "code",
   "execution_count": 154,
   "metadata": {},
   "outputs": [],
   "source": [
    "def power_2(b):\n",
    "    return lambda a : a ** b"
   ]
  },
  {
   "cell_type": "code",
   "execution_count": 156,
   "metadata": {},
   "outputs": [],
   "source": [
    "po2 = power_2(4)"
   ]
  },
  {
   "cell_type": "code",
   "execution_count": 157,
   "metadata": {},
   "outputs": [
    {
     "data": {
      "text/plain": [
       "81"
      ]
     },
     "execution_count": 157,
     "metadata": {},
     "output_type": "execute_result"
    }
   ],
   "source": [
    "po2(3)"
   ]
  },
  {
   "cell_type": "code",
   "execution_count": 158,
   "metadata": {},
   "outputs": [
    {
     "data": {
      "text/plain": [
       "16"
      ]
     },
     "execution_count": 158,
     "metadata": {},
     "output_type": "execute_result"
    }
   ],
   "source": [
    "po2(2)"
   ]
  },
  {
   "cell_type": "code",
   "execution_count": null,
   "metadata": {},
   "outputs": [],
   "source": []
  }
 ],
 "metadata": {
  "kernelspec": {
   "display_name": "Python 3",
   "language": "python",
   "name": "python3"
  },
  "language_info": {
   "codemirror_mode": {
    "name": "ipython",
    "version": 3
   },
   "file_extension": ".py",
   "mimetype": "text/x-python",
   "name": "python",
   "nbconvert_exporter": "python",
   "pygments_lexer": "ipython3",
   "version": "3.7.4"
  }
 },
 "nbformat": 4,
 "nbformat_minor": 2
}
