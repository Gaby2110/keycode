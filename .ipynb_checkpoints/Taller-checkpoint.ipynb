{
 "cells": [
  {
   "cell_type": "markdown",
   "metadata": {},
   "source": [
    "# Ejercicio 1 Palindromo "
   ]
  },
  {
   "cell_type": "code",
   "execution_count": 37,
   "metadata": {},
   "outputs": [],
   "source": [
    "def palind (): \n",
    "    texto = input(\"Ingrese lo que desea validar como palindromo: \").lower()\n",
    "    rever = texto[::-1]\n",
    "\n",
    "    if texto==rever:\n",
    "        return print('Es un palindromo')\n",
    "    else:\n",
    "        return print('No es un palindromo')"
   ]
  },
  {
   "cell_type": "code",
   "execution_count": 38,
   "metadata": {},
   "outputs": [],
   "source": [
    "def palind2 (): \n",
    "    igual = 0\n",
    "    i = 0 \n",
    "    texto = input(\"Ingrese lo que desea validar como palindromo: \")\n",
    "    for reves in reversed (range(0, len(texto))):\n",
    "        if texto[reves].lower() == texto[i].lower(): \n",
    "            igual += 1\n",
    "            i+= 1\n",
    "    if len(texto) == igual:\n",
    "        return print(\"Es un palindromo\")\n",
    "    else:\n",
    "        return print(\"No es un palindromo\")"
   ]
  },
  {
   "cell_type": "code",
   "execution_count": 40,
   "metadata": {},
   "outputs": [
    {
     "name": "stdout",
     "output_type": "stream",
     "text": [
      "Ingrese lo que desea validar como palindromo: 3\n",
      "Es un palindromo\n"
     ]
    }
   ],
   "source": [
    "palind()"
   ]
  },
  {
   "cell_type": "markdown",
   "metadata": {},
   "source": [
    "# Ejercicio 2 numeros primos "
   ]
  },
  {
   "cell_type": "code",
   "execution_count": 3,
   "metadata": {},
   "outputs": [],
   "source": [
    "def primo ():\n",
    "    a=0\n",
    "    num  =  int(input( 'Ingrese el número a validar:' ))\n",
    "    if num <= 1:\n",
    "        return print('No es un número primo')\n",
    "    elif num == 2:\n",
    "        return print('Es un número primo')\n",
    "    else:\n",
    "        for i in range(2, num):\n",
    "            if num % i == 0:\n",
    "                i+=1\n",
    "                return print('No es un número primo')\n",
    "        else:\n",
    "            return print('Es un número primo')           "
   ]
  },
  {
   "cell_type": "code",
   "execution_count": 8,
   "metadata": {},
   "outputs": [
    {
     "name": "stdout",
     "output_type": "stream",
     "text": [
      "Ingrese el número a validar:-5\n",
      "No es un número primo\n"
     ]
    }
   ],
   "source": [
    "primo()"
   ]
  },
  {
   "cell_type": "markdown",
   "metadata": {},
   "source": [
    "# Ejercicio 3 numeros primos 2"
   ]
  },
  {
   "cell_type": "code",
   "execution_count": 55,
   "metadata": {},
   "outputs": [],
   "source": [
    "def primosl(): \n",
    "    num  =  int(input('Ingrese cuantos números primos desea ver:'))\n",
    "    nprimos = []\n",
    "    while len(nprimos)!=num:\n",
    "        for nume in range(2,num+2):\n",
    "            primo = True\n",
    "            for i in range(2, nume):\n",
    "                if (nume % i == 0):\n",
    "                    primo = False\n",
    "            if primo:\n",
    "                nprimos.append(nume)\n",
    "        return nprimos\n",
    "        "
   ]
  },
  {
   "cell_type": "code",
   "execution_count": 56,
   "metadata": {
    "scrolled": false
   },
   "outputs": [
    {
     "name": "stdout",
     "output_type": "stream",
     "text": [
      "Ingrese cuantos números primos desea ver:4\n"
     ]
    },
    {
     "data": {
      "text/plain": [
       "[2, 3, 5]"
      ]
     },
     "execution_count": 56,
     "metadata": {},
     "output_type": "execute_result"
    }
   ],
   "source": [
    "primosl()"
   ]
  },
  {
   "cell_type": "code",
   "execution_count": 22,
   "metadata": {},
   "outputs": [],
   "source": [
    "def primos(num): \n",
    "    nprimos = []\n",
    "    cont = 1\n",
    "    while len(nprimos)!= num:\n",
    "        x = []\n",
    "        cont = cont + 1\n",
    "        for i in range(2,cont):\n",
    "            n = cont % i\n",
    "            x.append(n)\n",
    "        if 0 in x:\n",
    "            primo = True\n",
    "        else:\n",
    "            primo = False\n",
    "            nprimos.append(cont)\n",
    "    return nprimos"
   ]
  },
  {
   "cell_type": "code",
   "execution_count": 23,
   "metadata": {},
   "outputs": [
    {
     "data": {
      "text/plain": [
       "[2, 3, 5, 7, 11, 13]"
      ]
     },
     "execution_count": 23,
     "metadata": {},
     "output_type": "execute_result"
    }
   ],
   "source": [
    "primos(6)"
   ]
  },
  {
   "cell_type": "markdown",
   "metadata": {},
   "source": [
    "# Ejercicio 4 números primos 3"
   ]
  },
  {
   "cell_type": "code",
   "execution_count": 24,
   "metadata": {},
   "outputs": [],
   "source": [
    "def mersenne():\n",
    "    cantidad = int(input('Cantidad de números de mersenne que desea ver:'))\n",
    "    listam = primos(cantidad)\n",
    "    mersenne = []\n",
    "    for i in listam:\n",
    "        num = 2**i-1\n",
    "        mersenne.append(num)\n",
    "    return mersenne\n",
    "    "
   ]
  },
  {
   "cell_type": "code",
   "execution_count": 25,
   "metadata": {},
   "outputs": [
    {
     "name": "stdout",
     "output_type": "stream",
     "text": [
      "Cantidad de números de mersenne que desea ver:6\n"
     ]
    },
    {
     "data": {
      "text/plain": [
       "[3, 7, 31, 127, 2047, 8191]"
      ]
     },
     "execution_count": 25,
     "metadata": {},
     "output_type": "execute_result"
    }
   ],
   "source": [
    "mersenne()"
   ]
  },
  {
   "cell_type": "markdown",
   "metadata": {},
   "source": [
    "# Ejercicio 5 máximo como un divisor"
   ]
  },
  {
   "cell_type": "code",
   "execution_count": 26,
   "metadata": {},
   "outputs": [],
   "source": [
    "def mcd():\n",
    "    n1  =  int(input('Ingrese el primer número:'))\n",
    "    n2  =  int(input('Ingrese el segundo número:'))\n",
    "    mcd = 1\n",
    "    if n1 % n2 == 0:\n",
    "        mcd = n2\n",
    "    elif n2 % n1 == 0:\n",
    "        mcd = n1\n",
    "    else:\n",
    "        for i in range (n2//2):\n",
    "            if n1%i==0 and n2%i==0:\n",
    "                mcd=i \n",
    "    print (f'El mcd de {n1} y {n2} es {mcd}')\n",
    "   "
   ]
  },
  {
   "cell_type": "code",
   "execution_count": 30,
   "metadata": {},
   "outputs": [
    {
     "name": "stdout",
     "output_type": "stream",
     "text": [
      "Ingrese el primer número:4\n",
      "Ingrese el segundo número:2\n",
      "El mcd de 4 y 2 es 2\n"
     ]
    }
   ],
   "source": [
    "mcd()"
   ]
  },
  {
   "cell_type": "markdown",
   "metadata": {},
   "source": [
    "# Ejercicio 6 Números romanos"
   ]
  },
  {
   "cell_type": "code",
   "execution_count": 117,
   "metadata": {},
   "outputs": [],
   "source": [
    "def num_romanos():\n",
    "    num  =  int(input('Ingrese el número que desea pasar a números romanos:'))\n",
    "    enteros = [1000, 900, 500, 400, 100, 90, 50, 40, 10, 9, 5, 4, 1]\n",
    "    romanos = [\"M\",\"CM\",\"D\",\"CD\",\"C\",\"XC\",\"L\",\"XL\",\"X\",\"IX\",\"V\",\"IV\",'I']\n",
    "    romano = \"\"\n",
    "    i = 0\n",
    "    while num > 0:\n",
    "        for c in range(num//enteros[i]):\n",
    "            romano = romano + romanos[i]\n",
    "            num = num - enteros[i]\n",
    "        i +=1\n",
    "    return romano"
   ]
  },
  {
   "cell_type": "code",
   "execution_count": 118,
   "metadata": {},
   "outputs": [
    {
     "name": "stdout",
     "output_type": "stream",
     "text": [
      "Ingrese el número:120\n"
     ]
    },
    {
     "data": {
      "text/plain": [
       "'CXX'"
      ]
     },
     "execution_count": 118,
     "metadata": {},
     "output_type": "execute_result"
    }
   ],
   "source": [
    "num_romanos()"
   ]
  }
 ],
 "metadata": {
  "kernelspec": {
   "display_name": "Python 3",
   "language": "python",
   "name": "python3"
  },
  "language_info": {
   "codemirror_mode": {
    "name": "ipython",
    "version": 3
   },
   "file_extension": ".py",
   "mimetype": "text/x-python",
   "name": "python",
   "nbconvert_exporter": "python",
   "pygments_lexer": "ipython3",
   "version": "3.8.3"
  }
 },
 "nbformat": 4,
 "nbformat_minor": 4
}
