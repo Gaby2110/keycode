{
 "cells": [
  {
   "cell_type": "code",
   "execution_count": 131,
   "metadata": {},
   "outputs": [],
   "source": [
    "# class name(): \n",
    "\n",
    "class carro():\n",
    "    def __init__(self,color,marca):\n",
    "        self.color = color\n",
    "        self.marca = marca\n",
    "        self.velocidad = 0\n",
    "        self.cambio = 0\n",
    "        self.count = 0\n",
    "    \n",
    "    def cambiar_velocidades(self, cambio):\n",
    "        self.cambio = cambio\n",
    "        \n",
    "    def acelerar(self):\n",
    "        self.velocidad += 10\n",
    "        \n",
    "        if self.count >= 3:\n",
    "            print('se quemo el motor')\n",
    "        \n",
    "        else:\n",
    "            if self.velocidad == 0 and self.cambio == 0 :\n",
    "                print('el carro esta en neutro')\n",
    "            elif self.velocidad > 0: \n",
    "                if self.velocidad < 30 and self.cambio == 1:\n",
    "                    self.count = 0\n",
    "                    print('acelerando')\n",
    "                    print(f'velocidad actual = {self.velocidad}')\n",
    "                elif (self.velocidad >= 30 and self.velocidad < 60) and self.cambio == 2:\n",
    "                    self.count = 0\n",
    "                    print('acelerando')\n",
    "                    print(f'velocidad actual = {self.velocidad}')\n",
    "                else:\n",
    "                    print('no concuerda el cambio con la velocidad')\n",
    "                    self.count += 1\n",
    "        \n",
    "        \n",
    "        \n",
    "    def detener(self):\n",
    "        self.velocidad -= 10\n",
    "        \n",
    "        if self.velocidad < 0 :\n",
    "            print('va en reversa')\n",
    "            print(f'velocidad actual = {self.velocidad}')\n",
    "        elif self.velocidad == 0:\n",
    "            print('el auto esta quieto')\n",
    "        else:\n",
    "            print('deteniendose')\n",
    "            print(f'velocidad actual = {self.velocidad}')"
   ]
  },
  {
   "cell_type": "code",
   "execution_count": 132,
   "metadata": {},
   "outputs": [
    {
     "name": "stdout",
     "output_type": "stream",
     "text": [
      "<__main__.carro object at 0x0000017D6C66D1C8>\n",
      "Azul\n",
      "Mazda\n"
     ]
    }
   ],
   "source": [
    "car = carro('Azul', 'Mazda')\n",
    "print(car)\n",
    "print(car.color)\n",
    "print(car.marca)"
   ]
  },
  {
   "cell_type": "code",
   "execution_count": 133,
   "metadata": {},
   "outputs": [
    {
     "data": {
      "text/plain": [
       "0"
      ]
     },
     "execution_count": 133,
     "metadata": {},
     "output_type": "execute_result"
    }
   ],
   "source": [
    "car.cambio"
   ]
  },
  {
   "cell_type": "code",
   "execution_count": 134,
   "metadata": {},
   "outputs": [],
   "source": [
    "car.cambiar_velocidades(2)"
   ]
  },
  {
   "cell_type": "code",
   "execution_count": 159,
   "metadata": {},
   "outputs": [
    {
     "name": "stdout",
     "output_type": "stream",
     "text": [
      "se quemo el motor\n",
      "no concuerda el cambio con la velocidad\n"
     ]
    }
   ],
   "source": [
    "car.acelerar()"
   ]
  },
  {
   "cell_type": "code",
   "execution_count": 157,
   "metadata": {},
   "outputs": [
    {
     "data": {
      "text/plain": [
       "80"
      ]
     },
     "execution_count": 157,
     "metadata": {},
     "output_type": "execute_result"
    }
   ],
   "source": [
    "car.velocidad"
   ]
  },
  {
   "cell_type": "code",
   "execution_count": 158,
   "metadata": {},
   "outputs": [
    {
     "data": {
      "text/plain": [
       "3"
      ]
     },
     "execution_count": 158,
     "metadata": {},
     "output_type": "execute_result"
    }
   ],
   "source": [
    "car.count"
   ]
  },
  {
   "cell_type": "code",
   "execution_count": 44,
   "metadata": {},
   "outputs": [
    {
     "name": "stdout",
     "output_type": "stream",
     "text": [
      "va en reversa\n",
      "velocidad actual = -10\n"
     ]
    }
   ],
   "source": [
    "car.detener()"
   ]
  },
  {
   "cell_type": "markdown",
   "metadata": {},
   "source": [
    "<hr>"
   ]
  },
  {
   "cell_type": "code",
   "execution_count": 199,
   "metadata": {},
   "outputs": [],
   "source": [
    "class computador():\n",
    "    def __init__(self,marca, estado):\n",
    "        self.estado = estado\n",
    "        self.marca = marca"
   ]
  },
  {
   "cell_type": "code",
   "execution_count": 203,
   "metadata": {},
   "outputs": [],
   "source": [
    "class person():\n",
    "    def __init__(self, nombre, edad, genero, computador):\n",
    "        self.nombre = nombre\n",
    "        self.edad = edad\n",
    "        self.genero = genero\n",
    "        self.carro = ''\n",
    "        self.computador = computador\n",
    "    \n",
    "    def saludar(self):\n",
    "        print(f'hola mi nombre es {self.nombre} y tengo {self.edad} años')\n",
    "    \n",
    "    def saludar_a(self,persona):\n",
    "        print(f'hola {persona.nombre} mi nombre es {self.nombre}')\n",
    "    "
   ]
  },
  {
   "cell_type": "code",
   "execution_count": 204,
   "metadata": {},
   "outputs": [],
   "source": [
    "pc = computador('Asus', 'Nuevo')"
   ]
  },
  {
   "cell_type": "code",
   "execution_count": 205,
   "metadata": {},
   "outputs": [],
   "source": [
    "per = person('maria', 22, 'F',pc)\n",
    "per2 = person('juan', 23, 'M',pc)"
   ]
  },
  {
   "cell_type": "code",
   "execution_count": 206,
   "metadata": {},
   "outputs": [
    {
     "name": "stdout",
     "output_type": "stream",
     "text": [
      "hola mi nombre es maria y tengo 22 años\n"
     ]
    }
   ],
   "source": [
    "per.saludar()"
   ]
  },
  {
   "cell_type": "code",
   "execution_count": 207,
   "metadata": {},
   "outputs": [
    {
     "name": "stdout",
     "output_type": "stream",
     "text": [
      "hola mi nombre es juan y tengo 23 años\n"
     ]
    }
   ],
   "source": [
    "per2.saludar()"
   ]
  },
  {
   "cell_type": "code",
   "execution_count": 208,
   "metadata": {},
   "outputs": [
    {
     "name": "stdout",
     "output_type": "stream",
     "text": [
      "hola juan mi nombre es maria\n"
     ]
    }
   ],
   "source": [
    "per.saludar_a(per2)"
   ]
  },
  {
   "cell_type": "code",
   "execution_count": 209,
   "metadata": {},
   "outputs": [
    {
     "name": "stdout",
     "output_type": "stream",
     "text": [
      "hola maria mi nombre es juan\n"
     ]
    }
   ],
   "source": [
    "per2.saludar_a(per)"
   ]
  },
  {
   "cell_type": "code",
   "execution_count": 210,
   "metadata": {},
   "outputs": [],
   "source": [
    "car = carro('Negro', 'BMW')\n",
    "car2 = carro('Rojo', 'Ferrari')"
   ]
  },
  {
   "cell_type": "code",
   "execution_count": 211,
   "metadata": {},
   "outputs": [],
   "source": [
    "per.carro = car2\n",
    "per2.carro = car"
   ]
  },
  {
   "cell_type": "code",
   "execution_count": 212,
   "metadata": {},
   "outputs": [
    {
     "data": {
      "text/plain": [
       "'Negro'"
      ]
     },
     "execution_count": 212,
     "metadata": {},
     "output_type": "execute_result"
    }
   ],
   "source": [
    "per2.carro.color"
   ]
  },
  {
   "cell_type": "code",
   "execution_count": 213,
   "metadata": {},
   "outputs": [
    {
     "data": {
      "text/plain": [
       "'BMW'"
      ]
     },
     "execution_count": 213,
     "metadata": {},
     "output_type": "execute_result"
    }
   ],
   "source": [
    "per2.carro.marca"
   ]
  },
  {
   "cell_type": "code",
   "execution_count": 214,
   "metadata": {},
   "outputs": [
    {
     "name": "stdout",
     "output_type": "stream",
     "text": [
      "no concuerda el cambio con la velocidad\n"
     ]
    }
   ],
   "source": [
    "per2.carro.acelerar()"
   ]
  },
  {
   "cell_type": "code",
   "execution_count": 217,
   "metadata": {},
   "outputs": [
    {
     "data": {
      "text/plain": [
       "'Nuevo'"
      ]
     },
     "execution_count": 217,
     "metadata": {},
     "output_type": "execute_result"
    }
   ],
   "source": [
    "per2.computador.estado"
   ]
  },
  {
   "cell_type": "code",
   "execution_count": 218,
   "metadata": {},
   "outputs": [],
   "source": [
    "per2.nombre = 'jose'"
   ]
  },
  {
   "cell_type": "code",
   "execution_count": 220,
   "metadata": {},
   "outputs": [
    {
     "data": {
      "text/plain": [
       "'jose'"
      ]
     },
     "execution_count": 220,
     "metadata": {},
     "output_type": "execute_result"
    }
   ],
   "source": [
    "per2.nombre"
   ]
  },
  {
   "cell_type": "code",
   "execution_count": 224,
   "metadata": {},
   "outputs": [],
   "source": [
    "dp = per.__dict__"
   ]
  },
  {
   "cell_type": "code",
   "execution_count": 229,
   "metadata": {},
   "outputs": [
    {
     "data": {
      "text/plain": [
       "'maria'"
      ]
     },
     "execution_count": 229,
     "metadata": {},
     "output_type": "execute_result"
    }
   ],
   "source": [
    "dp['nombre']"
   ]
  },
  {
   "cell_type": "code",
   "execution_count": 230,
   "metadata": {},
   "outputs": [
    {
     "data": {
      "text/plain": [
       "{'nombre': 'maria',\n",
       " 'edad': 22,\n",
       " 'genero': 'F',\n",
       " 'carro': <__main__.carro at 0x17d6c6ad748>,\n",
       " 'computador': <__main__.computador at 0x17d6c6a9548>}"
      ]
     },
     "execution_count": 230,
     "metadata": {},
     "output_type": "execute_result"
    }
   ],
   "source": [
    "per.__dict__"
   ]
  },
  {
   "cell_type": "code",
   "execution_count": null,
   "metadata": {},
   "outputs": [],
   "source": []
  }
 ],
 "metadata": {
  "kernelspec": {
   "display_name": "Python 3",
   "language": "python",
   "name": "python3"
  },
  "language_info": {
   "codemirror_mode": {
    "name": "ipython",
    "version": 3
   },
   "file_extension": ".py",
   "mimetype": "text/x-python",
   "name": "python",
   "nbconvert_exporter": "python",
   "pygments_lexer": "ipython3",
   "version": "3.7.4"
  }
 },
 "nbformat": 4,
 "nbformat_minor": 2
}
